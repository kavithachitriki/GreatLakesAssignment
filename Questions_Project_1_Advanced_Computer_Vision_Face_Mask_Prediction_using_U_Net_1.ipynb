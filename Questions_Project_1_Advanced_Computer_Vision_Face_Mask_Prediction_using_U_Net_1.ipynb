{
  "nbformat": 4,
  "nbformat_minor": 0,
  "metadata": {
    "accelerator": "GPU",
    "colab": {
      "name": "Copy of Questions - Project 1 - Advanced Computer Vision - Face Mask Prediction using U-Net-1.ipynb",
      "provenance": [],
      "collapsed_sections": [],
      "toc_visible": true
    },
    "kernelspec": {
      "display_name": "Python 3",
      "language": "python",
      "name": "python3"
    },
    "language_info": {
      "codemirror_mode": {
        "name": "ipython",
        "version": 3
      },
      "file_extension": ".py",
      "mimetype": "text/x-python",
      "name": "python",
      "nbconvert_exporter": "python",
      "pygments_lexer": "ipython3",
      "version": "3.7.4"
    }
  },
  "cells": [
    {
      "cell_type": "markdown",
      "metadata": {
        "id": "q24VEuL2PbvT"
      },
      "source": [
        "![alt text](https://drive.google.com/uc?export=view&id=1UXScsVx_Wni_JuDdB8LeTnM6jsPfIwkW)\n",
        "\n",
        "Proprietary content. © Great Learning. All Rights Reserved. Unauthorized use or distribution prohibited."
      ]
    },
    {
      "cell_type": "markdown",
      "metadata": {
        "id": "NgR0j5310qqC"
      },
      "source": [
        "# Face Mask Prediction using U-Net\n",
        "Task is to predict the mask around the face in a given image."
      ]
    },
    {
      "cell_type": "markdown",
      "metadata": {
        "id": "VvWl3ebqzCc1"
      },
      "source": [
        "# Instructions\n",
        "- Some part of the code is already done for you\n",
        "- You need to execute all the cells\n",
        "- You need to add the code where ever you see `\"#### Add your code here ####\"`\n",
        "- Marks are mentioned along with the cells"
      ]
    },
    {
      "cell_type": "markdown",
      "metadata": {
        "id": "Aa0jyJzw091I"
      },
      "source": [
        "## Dataset\n",
        "Faces in images marked with bounding boxes. Have around 409 images with around 1000 faces manually tagged via bounding box.\n",
        "- Data file name: images.npy"
      ]
    },
    {
      "cell_type": "markdown",
      "metadata": {
        "id": "CjRTlPkp1LC2"
      },
      "source": [
        "### Mount Google drive if you are using google colab\n",
        "- We recommend using Google Colab as you can face memory issues and longer runtimes while running on local"
      ]
    },
    {
      "cell_type": "code",
      "metadata": {
        "id": "sBWMoTJ9cf3Z",
        "colab": {
          "base_uri": "https://localhost:8080/"
        },
        "outputId": "709c841c-9366-427f-f246-36a5d0c68e81"
      },
      "source": [
        "from google.colab import drive\n",
        "drive.mount('/content/drive')"
      ],
      "execution_count": null,
      "outputs": [
        {
          "output_type": "stream",
          "text": [
            "Mounted at /content/drive\n"
          ],
          "name": "stdout"
        }
      ]
    },
    {
      "cell_type": "markdown",
      "metadata": {
        "id": "3srplE-FEpKa"
      },
      "source": [
        "### Load the \"images.npy\" file (2 marks)\n",
        "- This file contains images with details of bounding boxes"
      ]
    },
    {
      "cell_type": "code",
      "metadata": {
        "id": "MqFE_tZDf0sM"
      },
      "source": [
        "import numpy as np\n",
        "data = np.load('/content/drive/My Drive/images.npy', allow_pickle=True)"
      ],
      "execution_count": null,
      "outputs": []
    },
    {
      "cell_type": "markdown",
      "metadata": {
        "id": "_SMP8zliFT7R"
      },
      "source": [
        "### Check one sample from the loaded \"images.npy\" file  (2 marks)\n",
        "- Hint: print data[10][1] "
      ]
    },
    {
      "cell_type": "code",
      "metadata": {
        "id": "NoqNvPK-iXqG",
        "colab": {
          "base_uri": "https://localhost:8080/"
        },
        "outputId": "3c25146f-f466-4de8-92c6-84c1309e2106"
      },
      "source": [
        "data[10][1]"
      ],
      "execution_count": null,
      "outputs": [
        {
          "output_type": "execute_result",
          "data": {
            "text/plain": [
              "[{'imageHeight': 337,\n",
              "  'imageWidth': 600,\n",
              "  'label': ['Face'],\n",
              "  'notes': '',\n",
              "  'points': [{'x': 0.48, 'y': 0.10385756676557864},\n",
              "   {'x': 0.7716666666666666, 'y': 0.6795252225519288}]}]"
            ]
          },
          "metadata": {
            "tags": []
          },
          "execution_count": 7
        }
      ]
    },
    {
      "cell_type": "markdown",
      "metadata": {
        "id": "m94G4p3CE5Cj"
      },
      "source": [
        "### Set image dimensions   (1 mark)\n",
        "- Initialize image height, image width with value: 224 "
      ]
    },
    {
      "cell_type": "code",
      "metadata": {
        "id": "kuZmtOASevDo"
      },
      "source": [
        "IMAGE_WIDTH = 224\n",
        "IMAGE_HEIGHT = 224"
      ],
      "execution_count": null,
      "outputs": []
    },
    {
      "cell_type": "markdown",
      "metadata": {
        "id": "wY6FEsCjG47s"
      },
      "source": [
        "### Create features and labels\n",
        "- Here feature is the image\n",
        "- The label is the mask\n",
        "- Images will be stored in \"X\" array\n",
        "- Masks will be stored in \"masks\" array"
      ]
    },
    {
      "cell_type": "code",
      "metadata": {
        "id": "XjCT9EVTgAvr"
      },
      "source": [
        "import cv2\n",
        "from tensorflow.keras.applications.mobilenet import preprocess_input\n",
        "\n",
        "masks = np.zeros((int(data.shape[0]), IMAGE_HEIGHT, IMAGE_WIDTH))\n",
        "X = np.zeros((int(data.shape[0]), IMAGE_HEIGHT, IMAGE_WIDTH, 3))\n",
        "for index in range(data.shape[0]):\n",
        "    img = data[index][0]\n",
        "    img = cv2.resize(img, dsize=(IMAGE_HEIGHT, IMAGE_WIDTH), interpolation=cv2.INTER_CUBIC)\n",
        "    try:\n",
        "      img = img[:, :, :3]\n",
        "    except:\n",
        "      continue\n",
        "    X[index] = preprocess_input(np.array(img, dtype=np.float32))\n",
        "    for i in data[index][1]:\n",
        "        x1 = int(i[\"points\"][0]['x'] * IMAGE_WIDTH)\n",
        "        x2 = int(i[\"points\"][1]['x'] * IMAGE_WIDTH)\n",
        "        y1 = int(i[\"points\"][0]['y'] * IMAGE_HEIGHT)\n",
        "        y2 = int(i[\"points\"][1]['y'] * IMAGE_HEIGHT)\n",
        "        masks[index][y1:y2, x1:x2] = 1"
      ],
      "execution_count": null,
      "outputs": []
    },
    {
      "cell_type": "markdown",
      "metadata": {
        "id": "N3AYbP79bFtJ"
      },
      "source": [
        "### Split the data into training and testing (2 marks)\n",
        "- 400 images in training\n",
        "- 9 images in testing data"
      ]
    },
    {
      "cell_type": "markdown",
      "metadata": {
        "id": "-Uc0NmqXQtPK"
      },
      "source": [
        "Training data"
      ]
    },
    {
      "cell_type": "code",
      "metadata": {
        "id": "3PIRaEdWIjDa"
      },
      "source": [
        "X_train = X[:400]\n",
        "y_train = masks[:400]"
      ],
      "execution_count": null,
      "outputs": []
    },
    {
      "cell_type": "markdown",
      "metadata": {
        "id": "7ybyn6QnQ4ID"
      },
      "source": [
        "Testing data"
      ]
    },
    {
      "cell_type": "code",
      "metadata": {
        "id": "Gw6uH5DxgI_r"
      },
      "source": [
        "X_test = X[400:]\n",
        "y_test = masks[400:]"
      ],
      "execution_count": null,
      "outputs": []
    },
    {
      "cell_type": "markdown",
      "metadata": {
        "id": "R4wgkWq1bk5F"
      },
      "source": [
        "### Print a sample training image, image array and its mask (2 marks)"
      ]
    },
    {
      "cell_type": "markdown",
      "metadata": {
        "id": "gfqobMQoRCW-"
      },
      "source": [
        "Print the image and image array"
      ]
    },
    {
      "cell_type": "code",
      "metadata": {
        "id": "qfRZjQufj0N9",
        "colab": {
          "base_uri": "https://localhost:8080/",
          "height": 1000
        },
        "outputId": "c0e117ff-29b3-41bf-bc95-cddd33a14f92"
      },
      "source": [
        "import matplotlib.pyplot as plt\n",
        "\n",
        "n = 20    \n",
        "print(\"Image array:\", X_train[n])\n",
        "plt.imshow(X_train[n])"
      ],
      "execution_count": null,
      "outputs": [
        {
          "output_type": "stream",
          "text": [
            "Clipping input data to the valid range for imshow with RGB data ([0..1] for floats or [0..255] for integers).\n"
          ],
          "name": "stderr"
        },
        {
          "output_type": "stream",
          "text": [
            "Image array: [[[-1. -1. -1.]\n",
            "  [-1. -1. -1.]\n",
            "  [-1. -1. -1.]\n",
            "  ...\n",
            "  [-1. -1. -1.]\n",
            "  [-1. -1. -1.]\n",
            "  [-1. -1. -1.]]\n",
            "\n",
            " [[-1. -1. -1.]\n",
            "  [-1. -1. -1.]\n",
            "  [-1. -1. -1.]\n",
            "  ...\n",
            "  [-1. -1. -1.]\n",
            "  [-1. -1. -1.]\n",
            "  [-1. -1. -1.]]\n",
            "\n",
            " [[-1. -1. -1.]\n",
            "  [-1. -1. -1.]\n",
            "  [-1. -1. -1.]\n",
            "  ...\n",
            "  [-1. -1. -1.]\n",
            "  [-1. -1. -1.]\n",
            "  [-1. -1. -1.]]\n",
            "\n",
            " ...\n",
            "\n",
            " [[-1. -1. -1.]\n",
            "  [-1. -1. -1.]\n",
            "  [-1. -1. -1.]\n",
            "  ...\n",
            "  [-1. -1. -1.]\n",
            "  [-1. -1. -1.]\n",
            "  [-1. -1. -1.]]\n",
            "\n",
            " [[-1. -1. -1.]\n",
            "  [-1. -1. -1.]\n",
            "  [-1. -1. -1.]\n",
            "  ...\n",
            "  [-1. -1. -1.]\n",
            "  [-1. -1. -1.]\n",
            "  [-1. -1. -1.]]\n",
            "\n",
            " [[-1. -1. -1.]\n",
            "  [-1. -1. -1.]\n",
            "  [-1. -1. -1.]\n",
            "  ...\n",
            "  [-1. -1. -1.]\n",
            "  [-1. -1. -1.]\n",
            "  [-1. -1. -1.]]]\n"
          ],
          "name": "stdout"
        },
        {
          "output_type": "execute_result",
          "data": {
            "text/plain": [
              "<matplotlib.image.AxesImage at 0x7f0bd086b950>"
            ]
          },
          "metadata": {
            "tags": []
          },
          "execution_count": 12
        },
        {
          "output_type": "display_data",
          "data": {
            "image/png": "[encoded data removed]",
            "text/plain": [
              "<Figure size 432x288 with 1 Axes>"
            ]
          },
          "metadata": {
            "tags": [],
            "needs_background": "light"
          }
        }
      ]
    },
    {
      "cell_type": "markdown",
      "metadata": {
        "id": "cctmS46hJKnL"
      },
      "source": [
        "Print the mask"
      ]
    },
    {
      "cell_type": "code",
      "metadata": {
        "id": "983gGKcwlSe8",
        "colab": {
          "base_uri": "https://localhost:8080/",
          "height": 286
        },
        "outputId": "bc0e618b-70a6-4c60-d426-052803a48854"
      },
      "source": [
        "plt.imshow(masks[n])"
      ],
      "execution_count": null,
      "outputs": [
        {
          "output_type": "execute_result",
          "data": {
            "text/plain": [
              "<matplotlib.image.AxesImage at 0x7f0bd781aa90>"
            ]
          },
          "metadata": {
            "tags": []
          },
          "execution_count": 13
        },
        {
          "output_type": "display_data",
          "data": {
            "image/png": "[encoded data removed]",
            "text/plain": [
              "<Figure size 432x288 with 1 Axes>"
            ]
          },
          "metadata": {
            "tags": [],
            "needs_background": "light"
          }
        }
      ]
    },
    {
      "cell_type": "markdown",
      "metadata": {
        "id": "Z0Qa1UOue9TE"
      },
      "source": [
        "## Create the model (5 marks)\n",
        "- Add MobileNet as model with below parameter values\n",
        "  - input_shape: IMAGE_HEIGHT, IMAGE_WIDTH, 3\n",
        "  - include_top: False\n",
        "  - alpha: 1.0\n",
        "  - weights: \"imagenet\"\n",
        "- Add UNET architecture layers\n",
        "  - This is the trickiest part of the project, you need to research and implement it correctly"
      ]
    },
    {
      "cell_type": "code",
      "metadata": {
        "id": "BTVYOvANrUVx"
      },
      "source": [
        "from tensorflow.keras.applications.mobilenet import MobileNet\n",
        "from tensorflow.keras.layers import Reshape, UpSampling2D, Concatenate, Conv2D\n",
        "from tensorflow.keras.models import Model\n",
        "\n",
        "def create_model(trainable=True):\n",
        "    model = MobileNet(input_shape=(IMAGE_HEIGHT, IMAGE_WIDTH, 3), include_top=False, alpha=1.0, weights=\"imagenet\")\n",
        "\n",
        "    for layer in model.layers:\n",
        "        layer.trainable = trainable\n",
        "  \n",
        "    block0 = model.get_layer(\"conv_pw_1_relu\").output\n",
        "    block1 = model.get_layer(\"conv_pw_3_relu\").output\n",
        "    block2 = model.get_layer(\"conv_pw_5_relu\").output\n",
        "    block3 = model.get_layer(\"conv_pw_11_relu\").output\n",
        "    block4 = model.get_layer(\"conv_pw_13_relu\").output\n",
        "\n",
        "    x = Concatenate()([UpSampling2D()(block4), block3])\n",
        "    print(x.shape)\n",
        "    x = Concatenate()([UpSampling2D()(x), block2])\n",
        "    print(x.shape)\n",
        "    x = Concatenate()([UpSampling2D()(x), block1])\n",
        "    print(x.shape)\n",
        "    x = Concatenate()([UpSampling2D()(x), block0])\n",
        "    print(x.shape)\n",
        "    x = UpSampling2D()(x)\n",
        "    print(x.shape)\n",
        "    x = Conv2D(1, kernel_size=1, activation=\"sigmoid\")(x)\n",
        "    x = Reshape((IMAGE_HEIGHT, IMAGE_WIDTH))(x)\n",
        "    print(x.shape)\n",
        "\n",
        "    return Model(inputs=model.input, outputs=x)"
      ],
      "execution_count": null,
      "outputs": []
    },
    {
      "cell_type": "markdown",
      "metadata": {
        "id": "_snZ9o0ZBAiv"
      },
      "source": [
        "### Call the create_model function (1 mark)\n",
        "- Give trainable=False as argument, if you want to freeze lower layers for fast training (but low accuracy)"
      ]
    },
    {
      "cell_type": "code",
      "metadata": {
        "id": "9TfSSP51uPoO",
        "colab": {
          "base_uri": "https://localhost:8080/"
        },
        "outputId": "1d835bb1-5a23-48a4-8788-216557321681"
      },
      "source": [
        "model = create_model()"
      ],
      "execution_count": null,
      "outputs": [
        {
          "output_type": "stream",
          "text": [
            "Downloading data from https://storage.googleapis.com/tensorflow/keras-applications/mobilenet/mobilenet_1_0_224_tf_no_top.h5\n",
            "17227776/17225924 [==============================] - 0s 0us/step\n",
            "(None, 14, 14, 1536)\n",
            "(None, 28, 28, 1792)\n",
            "(None, 56, 56, 1920)\n",
            "(None, 112, 112, 1984)\n",
            "(None, 224, 224, 1984)\n",
            "(None, 224, 224)\n"
          ],
          "name": "stdout"
        }
      ]
    },
    {
      "cell_type": "markdown",
      "metadata": {
        "id": "lUr_ZSHkKb5G"
      },
      "source": [
        "### Print model summary (1 mark)"
      ]
    },
    {
      "cell_type": "code",
      "metadata": {
        "id": "xXCbBt78KfT-",
        "colab": {
          "base_uri": "https://localhost:8080/"
        },
        "outputId": "20b595b1-3448-41e6-b6c0-4584348efb1d"
      },
      "source": [
        "model.summary()"
      ],
      "execution_count": null,
      "outputs": [
        {
          "output_type": "stream",
          "text": [
            "Model: \"model\"\n",
            "__________________________________________________________________________________________________\n",
            "Layer (type)                    Output Shape         Param #     Connected to                     \n",
            "==================================================================================================\n",
            "input_1 (InputLayer)            [(None, 224, 224, 3) 0                                            \n",
            "__________________________________________________________________________________________________\n",
            "conv1 (Conv2D)                  (None, 112, 112, 32) 864         input_1[0][0]                    \n",
            "__________________________________________________________________________________________________\n",
            "conv1_bn (BatchNormalization)   (None, 112, 112, 32) 128         conv1[0][0]                      \n",
            "__________________________________________________________________________________________________\n",
            "conv1_relu (ReLU)               (None, 112, 112, 32) 0           conv1_bn[0][0]                   \n",
            "__________________________________________________________________________________________________\n",
            "conv_dw_1 (DepthwiseConv2D)     (None, 112, 112, 32) 288         conv1_relu[0][0]                 \n",
            "__________________________________________________________________________________________________\n",
            "conv_dw_1_bn (BatchNormalizatio (None, 112, 112, 32) 128         conv_dw_1[0][0]                  \n",
            "__________________________________________________________________________________________________\n",
            "conv_dw_1_relu (ReLU)           (None, 112, 112, 32) 0           conv_dw_1_bn[0][0]               \n",
            "__________________________________________________________________________________________________\n",
            "conv_pw_1 (Conv2D)              (None, 112, 112, 64) 2048        conv_dw_1_relu[0][0]             \n",
            "__________________________________________________________________________________________________\n",
            "conv_pw_1_bn (BatchNormalizatio (None, 112, 112, 64) 256         conv_pw_1[0][0]                  \n",
            "__________________________________________________________________________________________________\n",
            "conv_pw_1_relu (ReLU)           (None, 112, 112, 64) 0           conv_pw_1_bn[0][0]               \n",
            "__________________________________________________________________________________________________\n",
            "conv_pad_2 (ZeroPadding2D)      (None, 113, 113, 64) 0           conv_pw_1_relu[0][0]             \n",
            "__________________________________________________________________________________________________\n",
            "conv_dw_2 (DepthwiseConv2D)     (None, 56, 56, 64)   576         conv_pad_2[0][0]                 \n",
            "__________________________________________________________________________________________________\n",
            "conv_dw_2_bn (BatchNormalizatio (None, 56, 56, 64)   256         conv_dw_2[0][0]                  \n",
            "__________________________________________________________________________________________________\n",
            "conv_dw_2_relu (ReLU)           (None, 56, 56, 64)   0           conv_dw_2_bn[0][0]               \n",
            "__________________________________________________________________________________________________\n",
            "conv_pw_2 (Conv2D)              (None, 56, 56, 128)  8192        conv_dw_2_relu[0][0]             \n",
            "__________________________________________________________________________________________________\n",
            "conv_pw_2_bn (BatchNormalizatio (None, 56, 56, 128)  512         conv_pw_2[0][0]                  \n",
            "__________________________________________________________________________________________________\n",
            "conv_pw_2_relu (ReLU)           (None, 56, 56, 128)  0           conv_pw_2_bn[0][0]               \n",
            "__________________________________________________________________________________________________\n",
            "conv_dw_3 (DepthwiseConv2D)     (None, 56, 56, 128)  1152        conv_pw_2_relu[0][0]             \n",
            "__________________________________________________________________________________________________\n",
            "conv_dw_3_bn (BatchNormalizatio (None, 56, 56, 128)  512         conv_dw_3[0][0]                  \n",
            "__________________________________________________________________________________________________\n",
            "conv_dw_3_relu (ReLU)           (None, 56, 56, 128)  0           conv_dw_3_bn[0][0]               \n",
            "__________________________________________________________________________________________________\n",
            "conv_pw_3 (Conv2D)              (None, 56, 56, 128)  16384       conv_dw_3_relu[0][0]             \n",
            "__________________________________________________________________________________________________\n",
            "conv_pw_3_bn (BatchNormalizatio (None, 56, 56, 128)  512         conv_pw_3[0][0]                  \n",
            "__________________________________________________________________________________________________\n",
            "conv_pw_3_relu (ReLU)           (None, 56, 56, 128)  0           conv_pw_3_bn[0][0]               \n",
            "__________________________________________________________________________________________________\n",
            "conv_pad_4 (ZeroPadding2D)      (None, 57, 57, 128)  0           conv_pw_3_relu[0][0]             \n",
            "__________________________________________________________________________________________________\n",
            "conv_dw_4 (DepthwiseConv2D)     (None, 28, 28, 128)  1152        conv_pad_4[0][0]                 \n",
            "__________________________________________________________________________________________________\n",
            "conv_dw_4_bn (BatchNormalizatio (None, 28, 28, 128)  512         conv_dw_4[0][0]                  \n",
            "__________________________________________________________________________________________________\n",
            "conv_dw_4_relu (ReLU)           (None, 28, 28, 128)  0           conv_dw_4_bn[0][0]               \n",
            "__________________________________________________________________________________________________\n",
            "conv_pw_4 (Conv2D)              (None, 28, 28, 256)  32768       conv_dw_4_relu[0][0]             \n",
            "__________________________________________________________________________________________________\n",
            "conv_pw_4_bn (BatchNormalizatio (None, 28, 28, 256)  1024        conv_pw_4[0][0]                  \n",
            "__________________________________________________________________________________________________\n",
            "conv_pw_4_relu (ReLU)           (None, 28, 28, 256)  0           conv_pw_4_bn[0][0]               \n",
            "__________________________________________________________________________________________________\n",
            "conv_dw_5 (DepthwiseConv2D)     (None, 28, 28, 256)  2304        conv_pw_4_relu[0][0]             \n",
            "__________________________________________________________________________________________________\n",
            "conv_dw_5_bn (BatchNormalizatio (None, 28, 28, 256)  1024        conv_dw_5[0][0]                  \n",
            "__________________________________________________________________________________________________\n",
            "conv_dw_5_relu (ReLU)           (None, 28, 28, 256)  0           conv_dw_5_bn[0][0]               \n",
            "__________________________________________________________________________________________________\n",
            "conv_pw_5 (Conv2D)              (None, 28, 28, 256)  65536       conv_dw_5_relu[0][0]             \n",
            "__________________________________________________________________________________________________\n",
            "conv_pw_5_bn (BatchNormalizatio (None, 28, 28, 256)  1024        conv_pw_5[0][0]                  \n",
            "__________________________________________________________________________________________________\n",
            "conv_pw_5_relu (ReLU)           (None, 28, 28, 256)  0           conv_pw_5_bn[0][0]               \n",
            "__________________________________________________________________________________________________\n",
            "conv_pad_6 (ZeroPadding2D)      (None, 29, 29, 256)  0           conv_pw_5_relu[0][0]             \n",
            "__________________________________________________________________________________________________\n",
            "conv_dw_6 (DepthwiseConv2D)     (None, 14, 14, 256)  2304        conv_pad_6[0][0]                 \n",
            "__________________________________________________________________________________________________\n",
            "conv_dw_6_bn (BatchNormalizatio (None, 14, 14, 256)  1024        conv_dw_6[0][0]                  \n",
            "__________________________________________________________________________________________________\n",
            "conv_dw_6_relu (ReLU)           (None, 14, 14, 256)  0           conv_dw_6_bn[0][0]               \n",
            "__________________________________________________________________________________________________\n",
            "conv_pw_6 (Conv2D)              (None, 14, 14, 512)  131072      conv_dw_6_relu[0][0]             \n",
            "__________________________________________________________________________________________________\n",
            "conv_pw_6_bn (BatchNormalizatio (None, 14, 14, 512)  2048        conv_pw_6[0][0]                  \n",
            "__________________________________________________________________________________________________\n",
            "conv_pw_6_relu (ReLU)           (None, 14, 14, 512)  0           conv_pw_6_bn[0][0]               \n",
            "__________________________________________________________________________________________________\n",
            "conv_dw_7 (DepthwiseConv2D)     (None, 14, 14, 512)  4608        conv_pw_6_relu[0][0]             \n",
            "__________________________________________________________________________________________________\n",
            "conv_dw_7_bn (BatchNormalizatio (None, 14, 14, 512)  2048        conv_dw_7[0][0]                  \n",
            "__________________________________________________________________________________________________\n",
            "conv_dw_7_relu (ReLU)           (None, 14, 14, 512)  0           conv_dw_7_bn[0][0]               \n",
            "__________________________________________________________________________________________________\n",
            "conv_pw_7 (Conv2D)              (None, 14, 14, 512)  262144      conv_dw_7_relu[0][0]             \n",
            "__________________________________________________________________________________________________\n",
            "conv_pw_7_bn (BatchNormalizatio (None, 14, 14, 512)  2048        conv_pw_7[0][0]                  \n",
            "__________________________________________________________________________________________________\n",
            "conv_pw_7_relu (ReLU)           (None, 14, 14, 512)  0           conv_pw_7_bn[0][0]               \n",
            "__________________________________________________________________________________________________\n",
            "conv_dw_8 (DepthwiseConv2D)     (None, 14, 14, 512)  4608        conv_pw_7_relu[0][0]             \n",
            "__________________________________________________________________________________________________\n",
            "conv_dw_8_bn (BatchNormalizatio (None, 14, 14, 512)  2048        conv_dw_8[0][0]                  \n",
            "__________________________________________________________________________________________________\n",
            "conv_dw_8_relu (ReLU)           (None, 14, 14, 512)  0           conv_dw_8_bn[0][0]               \n",
            "__________________________________________________________________________________________________\n",
            "conv_pw_8 (Conv2D)              (None, 14, 14, 512)  262144      conv_dw_8_relu[0][0]             \n",
            "__________________________________________________________________________________________________\n",
            "conv_pw_8_bn (BatchNormalizatio (None, 14, 14, 512)  2048        conv_pw_8[0][0]                  \n",
            "__________________________________________________________________________________________________\n",
            "conv_pw_8_relu (ReLU)           (None, 14, 14, 512)  0           conv_pw_8_bn[0][0]               \n",
            "__________________________________________________________________________________________________\n",
            "conv_dw_9 (DepthwiseConv2D)     (None, 14, 14, 512)  4608        conv_pw_8_relu[0][0]             \n",
            "__________________________________________________________________________________________________\n",
            "conv_dw_9_bn (BatchNormalizatio (None, 14, 14, 512)  2048        conv_dw_9[0][0]                  \n",
            "__________________________________________________________________________________________________\n",
            "conv_dw_9_relu (ReLU)           (None, 14, 14, 512)  0           conv_dw_9_bn[0][0]               \n",
            "__________________________________________________________________________________________________\n",
            "conv_pw_9 (Conv2D)              (None, 14, 14, 512)  262144      conv_dw_9_relu[0][0]             \n",
            "__________________________________________________________________________________________________\n",
            "conv_pw_9_bn (BatchNormalizatio (None, 14, 14, 512)  2048        conv_pw_9[0][0]                  \n",
            "__________________________________________________________________________________________________\n",
            "conv_pw_9_relu (ReLU)           (None, 14, 14, 512)  0           conv_pw_9_bn[0][0]               \n",
            "__________________________________________________________________________________________________\n",
            "conv_dw_10 (DepthwiseConv2D)    (None, 14, 14, 512)  4608        conv_pw_9_relu[0][0]             \n",
            "__________________________________________________________________________________________________\n",
            "conv_dw_10_bn (BatchNormalizati (None, 14, 14, 512)  2048        conv_dw_10[0][0]                 \n",
            "__________________________________________________________________________________________________\n",
            "conv_dw_10_relu (ReLU)          (None, 14, 14, 512)  0           conv_dw_10_bn[0][0]              \n",
            "__________________________________________________________________________________________________\n",
            "conv_pw_10 (Conv2D)             (None, 14, 14, 512)  262144      conv_dw_10_relu[0][0]            \n",
            "__________________________________________________________________________________________________\n",
            "conv_pw_10_bn (BatchNormalizati (None, 14, 14, 512)  2048        conv_pw_10[0][0]                 \n",
            "__________________________________________________________________________________________________\n",
            "conv_pw_10_relu (ReLU)          (None, 14, 14, 512)  0           conv_pw_10_bn[0][0]              \n",
            "__________________________________________________________________________________________________\n",
            "conv_dw_11 (DepthwiseConv2D)    (None, 14, 14, 512)  4608        conv_pw_10_relu[0][0]            \n",
            "__________________________________________________________________________________________________\n",
            "conv_dw_11_bn (BatchNormalizati (None, 14, 14, 512)  2048        conv_dw_11[0][0]                 \n",
            "__________________________________________________________________________________________________\n",
            "conv_dw_11_relu (ReLU)          (None, 14, 14, 512)  0           conv_dw_11_bn[0][0]              \n",
            "__________________________________________________________________________________________________\n",
            "conv_pw_11 (Conv2D)             (None, 14, 14, 512)  262144      conv_dw_11_relu[0][0]            \n",
            "__________________________________________________________________________________________________\n",
            "conv_pw_11_bn (BatchNormalizati (None, 14, 14, 512)  2048        conv_pw_11[0][0]                 \n",
            "__________________________________________________________________________________________________\n",
            "conv_pw_11_relu (ReLU)          (None, 14, 14, 512)  0           conv_pw_11_bn[0][0]              \n",
            "__________________________________________________________________________________________________\n",
            "conv_pad_12 (ZeroPadding2D)     (None, 15, 15, 512)  0           conv_pw_11_relu[0][0]            \n",
            "__________________________________________________________________________________________________\n",
            "conv_dw_12 (DepthwiseConv2D)    (None, 7, 7, 512)    4608        conv_pad_12[0][0]                \n",
            "__________________________________________________________________________________________________\n",
            "conv_dw_12_bn (BatchNormalizati (None, 7, 7, 512)    2048        conv_dw_12[0][0]                 \n",
            "__________________________________________________________________________________________________\n",
            "conv_dw_12_relu (ReLU)          (None, 7, 7, 512)    0           conv_dw_12_bn[0][0]              \n",
            "__________________________________________________________________________________________________\n",
            "conv_pw_12 (Conv2D)             (None, 7, 7, 1024)   524288      conv_dw_12_relu[0][0]            \n",
            "__________________________________________________________________________________________________\n",
            "conv_pw_12_bn (BatchNormalizati (None, 7, 7, 1024)   4096        conv_pw_12[0][0]                 \n",
            "__________________________________________________________________________________________________\n",
            "conv_pw_12_relu (ReLU)          (None, 7, 7, 1024)   0           conv_pw_12_bn[0][0]              \n",
            "__________________________________________________________________________________________________\n",
            "conv_dw_13 (DepthwiseConv2D)    (None, 7, 7, 1024)   9216        conv_pw_12_relu[0][0]            \n",
            "__________________________________________________________________________________________________\n",
            "conv_dw_13_bn (BatchNormalizati (None, 7, 7, 1024)   4096        conv_dw_13[0][0]                 \n",
            "__________________________________________________________________________________________________\n",
            "conv_dw_13_relu (ReLU)          (None, 7, 7, 1024)   0           conv_dw_13_bn[0][0]              \n",
            "__________________________________________________________________________________________________\n",
            "conv_pw_13 (Conv2D)             (None, 7, 7, 1024)   1048576     conv_dw_13_relu[0][0]            \n",
            "__________________________________________________________________________________________________\n",
            "conv_pw_13_bn (BatchNormalizati (None, 7, 7, 1024)   4096        conv_pw_13[0][0]                 \n",
            "__________________________________________________________________________________________________\n",
            "conv_pw_13_relu (ReLU)          (None, 7, 7, 1024)   0           conv_pw_13_bn[0][0]              \n",
            "__________________________________________________________________________________________________\n",
            "up_sampling2d (UpSampling2D)    (None, 14, 14, 1024) 0           conv_pw_13_relu[0][0]            \n",
            "__________________________________________________________________________________________________\n",
            "concatenate (Concatenate)       (None, 14, 14, 1536) 0           up_sampling2d[0][0]              \n",
            "                                                                 conv_pw_11_relu[0][0]            \n",
            "__________________________________________________________________________________________________\n",
            "up_sampling2d_1 (UpSampling2D)  (None, 28, 28, 1536) 0           concatenate[0][0]                \n",
            "__________________________________________________________________________________________________\n",
            "concatenate_1 (Concatenate)     (None, 28, 28, 1792) 0           up_sampling2d_1[0][0]            \n",
            "                                                                 conv_pw_5_relu[0][0]             \n",
            "__________________________________________________________________________________________________\n",
            "up_sampling2d_2 (UpSampling2D)  (None, 56, 56, 1792) 0           concatenate_1[0][0]              \n",
            "__________________________________________________________________________________________________\n",
            "concatenate_2 (Concatenate)     (None, 56, 56, 1920) 0           up_sampling2d_2[0][0]            \n",
            "                                                                 conv_pw_3_relu[0][0]             \n",
            "__________________________________________________________________________________________________\n",
            "up_sampling2d_3 (UpSampling2D)  (None, 112, 112, 192 0           concatenate_2[0][0]              \n",
            "__________________________________________________________________________________________________\n",
            "concatenate_3 (Concatenate)     (None, 112, 112, 198 0           up_sampling2d_3[0][0]            \n",
            "                                                                 conv_pw_1_relu[0][0]             \n",
            "__________________________________________________________________________________________________\n",
            "up_sampling2d_4 (UpSampling2D)  (None, 224, 224, 198 0           concatenate_3[0][0]              \n",
            "__________________________________________________________________________________________________\n",
            "conv2d (Conv2D)                 (None, 224, 224, 1)  1985        up_sampling2d_4[0][0]            \n",
            "__________________________________________________________________________________________________\n",
            "reshape (Reshape)               (None, 224, 224)     0           conv2d[0][0]                     \n",
            "==================================================================================================\n",
            "Total params: 3,230,849\n",
            "Trainable params: 3,208,961\n",
            "Non-trainable params: 21,888\n",
            "__________________________________________________________________________________________________\n"
          ],
          "name": "stdout"
        }
      ]
    },
    {
      "cell_type": "markdown",
      "metadata": {
        "id": "2spcE4TvfEZw"
      },
      "source": [
        "### Define dice coefficient function (2 marks)\n",
        "- Create a function to calculate dice coefficient\n"
      ]
    },
    {
      "cell_type": "code",
      "metadata": {
        "id": "8H8aViXZuWz1"
      },
      "source": [
        "from tensorflow import reduce_sum\n",
        "from tensorflow.keras.backend import epsilon\n",
        "\n",
        "def dice_coefficient(y_true, y_pred):\n",
        "    numerator = 2 * reduce_sum(y_true * y_pred)\n",
        "    denominator = reduce_sum(y_true + y_pred)\n",
        "    return numerator / (denominator + epsilon())"
      ],
      "execution_count": null,
      "outputs": []
    },
    {
      "cell_type": "markdown",
      "metadata": {
        "id": "Nkp5SDM1fIu2"
      },
      "source": [
        "### Define loss function (2 marks)"
      ]
    },
    {
      "cell_type": "code",
      "metadata": {
        "id": "FEOVfs19KVLv"
      },
      "source": [
        "from tensorflow.keras.losses import binary_crossentropy\n",
        "from tensorflow.keras.backend import log\n",
        "\n",
        "def loss(y_true, y_pred):\n",
        "    return binary_crossentropy(y_true, y_pred) - log(dice_coefficient(y_true, y_pred) + epsilon())"
      ],
      "execution_count": null,
      "outputs": []
    },
    {
      "cell_type": "markdown",
      "metadata": {
        "id": "Thltv_akfOMS"
      },
      "source": [
        "### Compile the model (2 marks)\n",
        "- Complie the model using below parameters\n",
        "  - loss: use the loss function defined above\n",
        "  - optimizers: use Adam optimizer\n",
        "  - metrics: use dice_coefficient function defined above"
      ]
    },
    {
      "cell_type": "code",
      "metadata": {
        "id": "atPb8xm2qkK5"
      },
      "source": [
        "model.compile(loss=loss, optimizer='adam', metrics=[dice_coefficient])"
      ],
      "execution_count": null,
      "outputs": []
    },
    {
      "cell_type": "markdown",
      "metadata": {
        "id": "VTumZyg0fuVy"
      },
      "source": [
        "### Define callbacks (2 marks)\n",
        "- Use ModelCheckpoint\n",
        "- Use EarlyStopping\n",
        "- Use ReduceLROnPlateau"
      ]
    },
    {
      "cell_type": "code",
      "metadata": {
        "id": "QNlQHt8DMy7h"
      },
      "source": [
        "from tensorflow.keras.callbacks import ModelCheckpoint, EarlyStopping, ReduceLROnPlateau\n",
        "\n",
        "checkpoint = ModelCheckpoint(\"model-{loss:.2f}.h5\", monitor=\"loss\", verbose=1, save_best_only=True,\n",
        "                             save_weights_only=True, mode=\"min\")\n",
        "stop = EarlyStopping(monitor=\"loss\", patience=5, mode=\"min\")\n",
        "reduce_lr = ReduceLROnPlateau(monitor=\"loss\", factor=0.2, patience=5, min_lr=1e-6, verbose=1, mode=\"min\")"
      ],
      "execution_count": null,
      "outputs": []
    },
    {
      "cell_type": "markdown",
      "metadata": {
        "id": "LxxbwvXEf07e"
      },
      "source": [
        "### Fit the model (2 marks)\n",
        "- Fit the model using below parameters\n",
        "  - epochs: you can decide\n",
        "  - batch_size: 1\n",
        "  - callbacks: use the callbacks defined above"
      ]
    },
    {
      "cell_type": "code",
      "metadata": {
        "id": "guFfKsEmq58j",
        "colab": {
          "base_uri": "https://localhost:8080/"
        },
        "outputId": "f728693c-0dad-4ef6-877b-a4cbde72cb35"
      },
      "source": [
        "model.fit(X_train, y_train, epochs=10, batch_size=1, callbacks=[checkpoint, reduce_lr, stop])"
      ],
      "execution_count": null,
      "outputs": [
        {
          "output_type": "stream",
          "text": [
            "Epoch 1/10\n",
            "400/400 [==============================] - 56s 51ms/step - loss: 1.3761 - dice_coefficient: 0.4838\n",
            "\n",
            "Epoch 00001: loss improved from inf to 1.21102, saving model to model-1.21.h5\n",
            "Epoch 2/10\n",
            "400/400 [==============================] - 21s 52ms/step - loss: 1.0042 - dice_coefficient: 0.5986\n",
            "\n",
            "Epoch 00002: loss improved from 1.21102 to 0.85952, saving model to model-0.86.h5\n",
            "Epoch 3/10\n",
            "400/400 [==============================] - 21s 53ms/step - loss: 0.6924 - dice_coefficient: 0.6479\n",
            "\n",
            "Epoch 00003: loss improved from 0.85952 to 0.71927, saving model to model-0.72.h5\n",
            "Epoch 4/10\n",
            "400/400 [==============================] - 21s 53ms/step - loss: 0.6458 - dice_coefficient: 0.6818\n",
            "\n",
            "Epoch 00004: loss improved from 0.71927 to 0.67455, saving model to model-0.67.h5\n",
            "Epoch 5/10\n",
            "400/400 [==============================] - 22s 54ms/step - loss: 0.5979 - dice_coefficient: 0.6987\n",
            "\n",
            "Epoch 00005: loss improved from 0.67455 to 0.64747, saving model to model-0.65.h5\n",
            "Epoch 6/10\n",
            "400/400 [==============================] - 21s 53ms/step - loss: 0.6940 - dice_coefficient: 0.6600\n",
            "\n",
            "Epoch 00006: loss did not improve from 0.64747\n",
            "Epoch 7/10\n",
            "400/400 [==============================] - 21s 53ms/step - loss: 0.5197 - dice_coefficient: 0.7223\n",
            "\n",
            "Epoch 00007: loss improved from 0.64747 to 0.54969, saving model to model-0.55.h5\n",
            "Epoch 8/10\n",
            "400/400 [==============================] - 21s 54ms/step - loss: 0.4742 - dice_coefficient: 0.7488\n",
            "\n",
            "Epoch 00008: loss improved from 0.54969 to 0.46556, saving model to model-0.47.h5\n",
            "Epoch 9/10\n",
            "400/400 [==============================] - 21s 54ms/step - loss: 0.3873 - dice_coefficient: 0.7880\n",
            "\n",
            "Epoch 00009: loss improved from 0.46556 to 0.40748, saving model to model-0.41.h5\n",
            "Epoch 10/10\n",
            "400/400 [==============================] - 21s 54ms/step - loss: 0.3983 - dice_coefficient: 0.7779\n",
            "\n",
            "Epoch 00010: loss did not improve from 0.40748\n"
          ],
          "name": "stdout"
        },
        {
          "output_type": "execute_result",
          "data": {
            "text/plain": [
              "<tensorflow.python.keras.callbacks.History at 0x7f0b7331f750>"
            ]
          },
          "metadata": {
            "tags": []
          },
          "execution_count": 21
        }
      ]
    },
    {
      "cell_type": "markdown",
      "metadata": {
        "id": "5VtnuzlOf4uL"
      },
      "source": [
        "### Get the predicted mask for a test image   (2 marks)"
      ]
    },
    {
      "cell_type": "markdown",
      "metadata": {
        "id": "EKeEPrQJNqpq"
      },
      "source": [
        "Show the test image"
      ]
    },
    {
      "cell_type": "code",
      "metadata": {
        "id": "o-CBCMysrchu",
        "colab": {
          "base_uri": "https://localhost:8080/",
          "height": 322
        },
        "outputId": "29a5128e-e07e-4e7d-fd99-6fa1695a0f2a"
      },
      "source": [
        "m = 2\n",
        "plt.imshow(X_test[m])"
      ],
      "execution_count": null,
      "outputs": [
        {
          "output_type": "stream",
          "text": [
            "Clipping input data to the valid range for imshow with RGB data ([0..1] for floats or [0..255] for integers).\n"
          ],
          "name": "stderr"
        },
        {
          "output_type": "execute_result",
          "data": {
            "text/plain": [
              "<matplotlib.image.AxesImage at 0x7f0bc006b710>"
            ]
          },
          "metadata": {
            "tags": []
          },
          "execution_count": 25
        },
        {
          "output_type": "display_data",
          "data": {
            "image/png": "[encoded data removed]",
            "text/plain": [
              "<Figure size 432x288 with 1 Axes>"
            ]
          },
          "metadata": {
            "tags": [],
            "needs_background": "light"
          }
        }
      ]
    },
    {
      "cell_type": "markdown",
      "metadata": {
        "id": "0HuDvCJHNuwF"
      },
      "source": [
        "Show original mask for test image"
      ]
    },
    {
      "cell_type": "code",
      "metadata": {
        "id": "fvUuZu2zNxuj",
        "colab": {
          "base_uri": "https://localhost:8080/",
          "height": 286
        },
        "outputId": "4947b864-9983-41ae-f34f-55777caafc56"
      },
      "source": [
        "plt.imshow(masks[m])"
      ],
      "execution_count": null,
      "outputs": [
        {
          "output_type": "execute_result",
          "data": {
            "text/plain": [
              "<matplotlib.image.AxesImage at 0x7f0b7df51890>"
            ]
          },
          "metadata": {
            "tags": []
          },
          "execution_count": 26
        },
        {
          "output_type": "display_data",
          "data": {
            "image/png": "[encoded data removed]",
            "text/plain": [
              "<Figure size 432x288 with 1 Axes>"
            ]
          },
          "metadata": {
            "tags": [],
            "needs_background": "light"
          }
        }
      ]
    },
    {
      "cell_type": "markdown",
      "metadata": {
        "id": "IJjNguwlN6rI"
      },
      "source": [
        "Predict the mask on the test image"
      ]
    },
    {
      "cell_type": "code",
      "metadata": {
        "id": "X2dmz90gOcIr"
      },
      "source": [
        "pred_mask = cv2.resize(1.0 * (model.predict(x=np.array([X_test[m]]))[0] > 0.5), (IMAGE_WIDTH, IMAGE_HEIGHT)) "
      ],
      "execution_count": null,
      "outputs": []
    },
    {
      "cell_type": "markdown",
      "metadata": {
        "id": "fDIetz0HgA4R"
      },
      "source": [
        "### Impose the mask on the test image (2 marks)\n",
        "- In imshow use the alpha parameter and set it to greater than 0.5"
      ]
    },
    {
      "cell_type": "code",
      "metadata": {
        "id": "MTAHGkb5xdzu",
        "colab": {
          "base_uri": "https://localhost:8080/",
          "height": 322
        },
        "outputId": "18295191-eaab-4f78-d98e-cd4120f77d94"
      },
      "source": [
        "plt.imshow(X_test[m])\n",
        "plt.imshow(pred_mask, alpha=0.9)"
      ],
      "execution_count": null,
      "outputs": [
        {
          "output_type": "stream",
          "text": [
            "Clipping input data to the valid range for imshow with RGB data ([0..1] for floats or [0..255] for integers).\n"
          ],
          "name": "stderr"
        },
        {
          "output_type": "execute_result",
          "data": {
            "text/plain": [
              "<matplotlib.image.AxesImage at 0x7f0b7c4830d0>"
            ]
          },
          "metadata": {
            "tags": []
          },
          "execution_count": 28
        },
        {
          "output_type": "display_data",
          "data": {
            "image/png": "[encoded data removed]",
            "text/plain": [
              "<Figure size 432x288 with 1 Axes>"
            ]
          },
          "metadata": {
            "tags": [],
            "needs_background": "light"
          }
        }
      ]
    }
  ]
}