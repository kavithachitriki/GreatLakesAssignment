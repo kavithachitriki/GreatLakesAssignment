{
  "nbformat": 4,
  "nbformat_minor": 0,
  "metadata": {
    "colab": {
      "name": "Questions - Lab on ACV.ipynb",
      "provenance": [],
      "collapsed_sections": [],
      "toc_visible": true
    },
    "kernelspec": {
      "name": "python3",
      "display_name": "Python 3"
    }
  },
  "cells": [
    {
      "cell_type": "markdown",
      "metadata": {
        "id": "I-P5m4iA_xe7"
      },
      "source": [
        "# Bounding box detection - Racoon data\n",
        "\n",
        "\n",
        "## Data files\n",
        "- images_racoon.rar: contain images of racoons\n",
        "- train_labels.cv: contains coordinates for bounding box for every image"
      ]
    },
    {
      "cell_type": "markdown",
      "metadata": {
        "id": "d8M5gzwKWGiU"
      },
      "source": [
        "### Import the necessary libraries"
      ]
    },
    {
      "cell_type": "code",
      "metadata": {
        "id": "VOMKpZJcWGiV",
        "colab": {
          "base_uri": "https://localhost:8080/"
        },
        "outputId": "25697d8b-ff21-4f5f-f53b-18e1fa572484"
      },
      "source": [
        "from google.colab import drive\n",
        "drive.mount('/content/drive')"
      ],
      "execution_count": 4,
      "outputs": [
        {
          "output_type": "stream",
          "text": [
            "Mounted at /content/drive\n"
          ],
          "name": "stdout"
        }
      ]
    },
    {
      "cell_type": "code",
      "metadata": {
        "colab": {
          "base_uri": "https://localhost:8080/"
        },
        "id": "0L6oQNLSVA4A",
        "outputId": "ebfcb6fa-df6d-4b1e-e5ee-85d3a9aa91d4"
      },
      "source": [
        "!pip install patool\n",
        "import patoolib\n"
      ],
      "execution_count": 35,
      "outputs": [
        {
          "output_type": "stream",
          "text": [
            "Requirement already satisfied: patool in /usr/local/lib/python3.6/dist-packages (1.12)\n"
          ],
          "name": "stdout"
        }
      ]
    },
    {
      "cell_type": "code",
      "metadata": {
        "id": "lXsV-NLPcoAV"
      },
      "source": [
        ""
      ],
      "execution_count": 35,
      "outputs": []
    },
    {
      "cell_type": "code",
      "metadata": {
        "id": "wGWrWJOnVBew"
      },
      "source": [
        ""
      ],
      "execution_count": null,
      "outputs": []
    },
    {
      "cell_type": "code",
      "metadata": {
        "id": "qHkeSq2VVBl6"
      },
      "source": [
        "import pandas as pd\n",
        "import numpy as np\n",
        "import cv2"
      ],
      "execution_count": 9,
      "outputs": []
    },
    {
      "cell_type": "markdown",
      "metadata": {
        "id": "Z_INIZOi_tUW"
      },
      "source": [
        "### Change directory"
      ]
    },
    {
      "cell_type": "code",
      "metadata": {
        "id": "Sxgw3GT1AR9Y",
        "colab": {
          "base_uri": "https://localhost:8080/",
          "height": 35
        },
        "outputId": "81761c2d-6010-43e1-d19f-a39bd457541f"
      },
      "source": [
        "import os\n",
        "os.chdir('/content/drive/MyDrive/ACV')\n",
        "os.getcwd()"
      ],
      "execution_count": 34,
      "outputs": [
        {
          "output_type": "execute_result",
          "data": {
            "application/vnd.google.colaboratory.intrinsic+json": {
              "type": "string"
            },
            "text/plain": [
              "'/content/drive/MyDrive/ACV'"
            ]
          },
          "metadata": {
            "tags": []
          },
          "execution_count": 34
        }
      ]
    },
    {
      "cell_type": "markdown",
      "metadata": {
        "id": "lwxBtvYRWGii"
      },
      "source": [
        "### Load the training data from train.csv file"
      ]
    },
    {
      "cell_type": "code",
      "metadata": {
        "id": "wiTjjKtpWGij"
      },
      "source": [
        "\n",
        "df = pd.read_csv('train_labels.csv')"
      ],
      "execution_count": 38,
      "outputs": []
    },
    {
      "cell_type": "code",
      "metadata": {
        "id": "xI76HqA0Zbeb"
      },
      "source": [
        ""
      ],
      "execution_count": null,
      "outputs": []
    },
    {
      "cell_type": "markdown",
      "metadata": {
        "id": "-F3CkYxUWGin"
      },
      "source": [
        "### Print the shape of the train dataset"
      ]
    },
    {
      "cell_type": "code",
      "metadata": {
        "id": "uRz_MtnvWGip",
        "colab": {
          "base_uri": "https://localhost:8080/"
        },
        "outputId": "3d2f5e54-d3b7-4d82-923b-24409e7d5e0c"
      },
      "source": [
        "df.shape"
      ],
      "execution_count": 39,
      "outputs": [
        {
          "output_type": "execute_result",
          "data": {
            "text/plain": [
              "(173, 8)"
            ]
          },
          "metadata": {
            "tags": []
          },
          "execution_count": 39
        }
      ]
    },
    {
      "cell_type": "code",
      "metadata": {
        "colab": {
          "base_uri": "https://localhost:8080/",
          "height": 195
        },
        "id": "hDxdSHWBUyZI",
        "outputId": "1141ebe0-e67f-43eb-c43d-b445627a034e"
      },
      "source": [
        "df.head()"
      ],
      "execution_count": 40,
      "outputs": [
        {
          "output_type": "execute_result",
          "data": {
            "text/html": [
              "<div>\n",
              "<style scoped>\n",
              "    .dataframe tbody tr th:only-of-type {\n",
              "        vertical-align: middle;\n",
              "    }\n",
              "\n",
              "    .dataframe tbody tr th {\n",
              "        vertical-align: top;\n",
              "    }\n",
              "\n",
              "    .dataframe thead th {\n",
              "        text-align: right;\n",
              "    }\n",
              "</style>\n",
              "<table border=\"1\" class=\"dataframe\">\n",
              "  <thead>\n",
              "    <tr style=\"text-align: right;\">\n",
              "      <th></th>\n",
              "      <th>filename</th>\n",
              "      <th>width</th>\n",
              "      <th>height</th>\n",
              "      <th>class</th>\n",
              "      <th>xmin</th>\n",
              "      <th>ymin</th>\n",
              "      <th>xmax</th>\n",
              "      <th>ymax</th>\n",
              "    </tr>\n",
              "  </thead>\n",
              "  <tbody>\n",
              "    <tr>\n",
              "      <th>0</th>\n",
              "      <td>raccoon-17.jpg</td>\n",
              "      <td>259</td>\n",
              "      <td>194</td>\n",
              "      <td>raccoon</td>\n",
              "      <td>95</td>\n",
              "      <td>60</td>\n",
              "      <td>167</td>\n",
              "      <td>118</td>\n",
              "    </tr>\n",
              "    <tr>\n",
              "      <th>1</th>\n",
              "      <td>raccoon-11.jpg</td>\n",
              "      <td>660</td>\n",
              "      <td>432</td>\n",
              "      <td>raccoon</td>\n",
              "      <td>3</td>\n",
              "      <td>1</td>\n",
              "      <td>461</td>\n",
              "      <td>431</td>\n",
              "    </tr>\n",
              "    <tr>\n",
              "      <th>2</th>\n",
              "      <td>raccoon-63.jpg</td>\n",
              "      <td>600</td>\n",
              "      <td>400</td>\n",
              "      <td>raccoon</td>\n",
              "      <td>74</td>\n",
              "      <td>107</td>\n",
              "      <td>280</td>\n",
              "      <td>290</td>\n",
              "    </tr>\n",
              "    <tr>\n",
              "      <th>3</th>\n",
              "      <td>raccoon-63.jpg</td>\n",
              "      <td>600</td>\n",
              "      <td>400</td>\n",
              "      <td>raccoon</td>\n",
              "      <td>227</td>\n",
              "      <td>93</td>\n",
              "      <td>403</td>\n",
              "      <td>298</td>\n",
              "    </tr>\n",
              "    <tr>\n",
              "      <th>4</th>\n",
              "      <td>raccoon-60.jpg</td>\n",
              "      <td>273</td>\n",
              "      <td>185</td>\n",
              "      <td>raccoon</td>\n",
              "      <td>58</td>\n",
              "      <td>33</td>\n",
              "      <td>197</td>\n",
              "      <td>127</td>\n",
              "    </tr>\n",
              "  </tbody>\n",
              "</table>\n",
              "</div>"
            ],
            "text/plain": [
              "         filename  width  height    class  xmin  ymin  xmax  ymax\n",
              "0  raccoon-17.jpg    259     194  raccoon    95    60   167   118\n",
              "1  raccoon-11.jpg    660     432  raccoon     3     1   461   431\n",
              "2  raccoon-63.jpg    600     400  raccoon    74   107   280   290\n",
              "3  raccoon-63.jpg    600     400  raccoon   227    93   403   298\n",
              "4  raccoon-60.jpg    273     185  raccoon    58    33   197   127"
            ]
          },
          "metadata": {
            "tags": []
          },
          "execution_count": 40
        }
      ]
    },
    {
      "cell_type": "markdown",
      "metadata": {
        "id": "axf5m10eWGis"
      },
      "source": [
        "### Declare a variable IMAGE_SIZE = 128 as we will be using MobileNet which will be taking Input shape as 128 * 128 "
      ]
    },
    {
      "cell_type": "code",
      "metadata": {
        "id": "7ayEk2c9WGit"
      },
      "source": [
        "IMAGE_SIZE=128"
      ],
      "execution_count": 41,
      "outputs": []
    },
    {
      "cell_type": "markdown",
      "metadata": {
        "id": "wbrrYb5IWGix"
      },
      "source": [
        "### With the help of csv.reader write a for loop which can load the train.csv file and store the path, width, height, x0,y0,x1,y1 in induvidual variables. <br>\n",
        "1. Create a list variable known as 'path' which has all the path for all the training images\n",
        "2. Create an array 'coords' which has the resized coordinates of the bounding box for the training images\n",
        "\n",
        "<u>Note:</u> All the training images should be downsampled to 128 * 128 as it is the input shape of MobileNet (which we will be using for Object detection). Hence the corresponding coordinates of the bounding boxes should be changed to match the image dimension of 128 * 128 "
      ]
    },
    {
      "cell_type": "code",
      "metadata": {
        "id": "twSTiPpRWGiy"
      },
      "source": [
        "import csv\n",
        "with open('train_labels.csv','r') as csvfile:\n",
        "  paths=[]\n",
        "  coords=np.zeros((sum(1 for line in csvfile) -1, 4))\n",
        "  spamreader=csv.reader(csvfile,delimiter=',')\n",
        "  csvfile.seek(0)\n",
        "  next(spamreader,None)\n",
        "  for i,row in enumerate(spamreader):\n",
        "    for j,r in enumerate(row):\n",
        "      if((j !=0) & (j!= 3)):\n",
        "        row[j] = int(r)\n",
        "\n",
        "    path,width,height,class_,xmin,ymin,xmax,ymax=row\n",
        "    paths.append(path)\n",
        "    coords[i,0]=xmin * IMAGE_SIZE/width\n",
        "    coords[i,1]=ymin * IMAGE_SIZE/height\n",
        "    coords[i,2]=xmax * IMAGE_SIZE/width\n",
        "    coords[i,3]=ymax * IMAGE_SIZE/height"
      ],
      "execution_count": 44,
      "outputs": []
    },
    {
      "cell_type": "markdown",
      "metadata": {
        "id": "Z9iZWEpKWGi2"
      },
      "source": [
        "### Write a for loop which can load all the training images into a variable 'batch_images' using the paths from the 'paths' variable\n",
        "<u>Note:</u> Convert the image to RGB scale as the MobileNet accepts 3 channels as inputs   "
      ]
    },
    {
      "cell_type": "code",
      "metadata": {
        "id": "h6e99qquWGi3"
      },
      "source": [
        "from tensorflow.keras.applications.mobilenet import MobileNet,preprocess_input"
      ],
      "execution_count": 45,
      "outputs": []
    },
    {
      "cell_type": "code",
      "metadata": {
        "id": "0_4Qkmfvd-pV"
      },
      "source": [
        "from PIL import Image\n",
        "batch_images=np.zeros((len(paths),IMAGE_SIZE,IMAGE_SIZE,3),dtype=np.float32)\n",
        "\n",
        "for i,f in enumerate(paths):\n",
        "  img=Image.open('images/images/'+f)\n",
        "  img=img.resize((IMAGE_SIZE,IMAGE_SIZE))\n",
        "  img=img.convert('RGB')\n",
        "  batch_images[i] = preprocess_input(np.array(img,dtype=np.float32))"
      ],
      "execution_count": 47,
      "outputs": []
    },
    {
      "cell_type": "code",
      "metadata": {
        "colab": {
          "base_uri": "https://localhost:8080/"
        },
        "id": "CVHi81jzfKIT",
        "outputId": "a98bb65d-0ed7-4bfd-be9d-f8a80e61ec32"
      },
      "source": [
        "batch_images"
      ],
      "execution_count": 48,
      "outputs": [
        {
          "output_type": "execute_result",
          "data": {
            "text/plain": [
              "array([[[[-0.38823527, -0.20784312, -0.3098039 ],\n",
              "         [-0.8901961 , -0.7647059 , -0.84313726],\n",
              "         [-0.9137255 , -0.8509804 , -0.8980392 ],\n",
              "         ...,\n",
              "         [ 0.04313731,  0.5137255 ,  0.05882359],\n",
              "         [ 0.04313731,  0.4666667 ,  0.18431377],\n",
              "         [ 0.26274514,  0.654902  ,  0.38823533]],\n",
              "\n",
              "        [[-0.4352941 , -0.27843136, -0.36470586],\n",
              "         [-0.9529412 , -0.8666667 , -0.92941177],\n",
              "         [-0.8509804 , -0.79607844, -0.827451  ],\n",
              "         ...,\n",
              "         [-0.23921567,  0.21568632, -0.23921567],\n",
              "         [-0.0745098 ,  0.33333337,  0.00392163],\n",
              "         [ 0.09019613,  0.4431373 ,  0.20784318]],\n",
              "\n",
              "        [[-0.7019608 , -0.5764706 , -0.64705884],\n",
              "         [-0.85882354, -0.77254903, -0.8117647 ],\n",
              "         [-0.81960785, -0.78039217, -0.78039217],\n",
              "         ...,\n",
              "         [-0.2862745 ,  0.1686275 , -0.5058824 ],\n",
              "         [-0.1607843 ,  0.26274514, -0.31764704],\n",
              "         [-0.08235294,  0.254902  , -0.02745098]],\n",
              "\n",
              "        ...,\n",
              "\n",
              "        [[-0.04313725,  0.27843142, -0.25490195],\n",
              "         [-0.19215685,  0.12941182, -0.42745095],\n",
              "         [-0.15294117,  0.19215691, -0.42745095],\n",
              "         ...,\n",
              "         [-0.8352941 , -0.6784314 , -0.85882354],\n",
              "         [-0.45098037, -0.17647058, -0.5686275 ],\n",
              "         [-0.45098037,  0.0196079 , -0.6156863 ]],\n",
              "\n",
              "        [[ 0.03529418,  0.34901965, -0.19215685],\n",
              "         [-0.01176471,  0.3176471 , -0.25490195],\n",
              "         [-0.09019607,  0.24705887, -0.36470586],\n",
              "         ...,\n",
              "         [-0.8117647 , -0.6313726 , -0.827451  ],\n",
              "         [-0.8352941 , -0.4823529 , -0.8745098 ],\n",
              "         [-0.42745095,  0.1686275 , -0.49019605]],\n",
              "\n",
              "        [[-0.04313725,  0.30196083, -0.30196077],\n",
              "         [ 0.02745104,  0.3803922 , -0.23921567],\n",
              "         [-0.05098039,  0.2941177 , -0.3333333 ],\n",
              "         ...,\n",
              "         [-0.7176471 , -0.3960784 , -0.7019608 ],\n",
              "         [-0.6156863 , -0.17647058, -0.69411767],\n",
              "         [-0.03529412,  0.56078434, -0.14509803]]],\n",
              "\n",
              "\n",
              "       [[[-0.6862745 , -0.69411767, -0.56078434],\n",
              "         [-0.60784316, -0.60784316, -0.52156866],\n",
              "         [-0.58431375, -0.58431375, -0.47450978],\n",
              "         ...,\n",
              "         [ 0.43529415,  0.70980394, -0.35686272],\n",
              "         [ 0.39607847,  0.69411767, -0.4352941 ],\n",
              "         [ 0.26274514,  0.5764706 , -0.46666664]],\n",
              "\n",
              "        [[-0.7019608 , -0.6862745 , -0.5764706 ],\n",
              "         [-0.62352943, -0.6392157 , -0.5529412 ],\n",
              "         [-0.56078434, -0.58431375, -0.4980392 ],\n",
              "         ...,\n",
              "         [ 0.4039216 ,  0.69411767, -0.3960784 ],\n",
              "         [ 0.3803922 ,  0.7019608 , -0.4352941 ],\n",
              "         [ 0.254902  ,  0.5686275 , -0.46666664]],\n",
              "\n",
              "        [[-0.7176471 , -0.69411767, -0.5764706 ],\n",
              "         [-0.6392157 , -0.64705884, -0.5686275 ],\n",
              "         [-0.54509807, -0.58431375, -0.5058824 ],\n",
              "         ...,\n",
              "         [ 0.33333337,  0.6       , -0.38823527],\n",
              "         [ 0.36470592,  0.654902  , -0.36470586],\n",
              "         [ 0.24705887,  0.56078434, -0.42745095]],\n",
              "\n",
              "        ...,\n",
              "\n",
              "        [[ 0.27843142,  0.11372554,  0.03529418],\n",
              "         [ 0.26274514,  0.11372554,  0.06666672],\n",
              "         [ 0.22352946,  0.02745104, -0.04313725],\n",
              "         ...,\n",
              "         [-0.5764706 , -0.3333333 , -0.62352943],\n",
              "         [-0.49019605, -0.06666666, -0.52156866],\n",
              "         [-0.73333335, -0.32549018, -0.7254902 ]],\n",
              "\n",
              "        [[ 0.28627455,  0.12156868,  0.03529418],\n",
              "         [ 0.2313726 ,  0.03529418, -0.04313725],\n",
              "         [ 0.21568632, -0.00392157, -0.08235294],\n",
              "         ...,\n",
              "         [-0.5294118 , -0.1372549 , -0.5294118 ],\n",
              "         [-0.58431375, -0.12941176, -0.58431375],\n",
              "         [-0.7882353 , -0.5529412 , -0.8352941 ]],\n",
              "\n",
              "        [[ 0.254902  ,  0.09019613,  0.00392163],\n",
              "         [ 0.23921573, -0.00392157, -0.11372548],\n",
              "         [ 0.23921573,  0.0196079 , -0.0745098 ],\n",
              "         ...,\n",
              "         [-0.60784316, -0.04313725, -0.5529412 ],\n",
              "         [-0.77254903, -0.27058822, -0.7490196 ],\n",
              "         [-0.8901961 , -0.6627451 , -0.92941177]]],\n",
              "\n",
              "\n",
              "       [[[ 0.4901961 ,  0.5058824 ,  0.6862745 ],\n",
              "         [ 0.35686278,  0.35686278,  0.54509807],\n",
              "         [ 0.4039216 ,  0.43529415,  0.5529412 ],\n",
              "         ...,\n",
              "         [-0.23137254,  0.00392163, -0.5686275 ],\n",
              "         [-0.2862745 , -0.03529412, -0.5529412 ],\n",
              "         [-0.38039213, -0.25490195, -0.7647059 ]],\n",
              "\n",
              "        [[ 0.52156866,  0.5137255 ,  0.6784314 ],\n",
              "         [ 0.4431373 ,  0.43529415,  0.654902  ],\n",
              "         [ 0.6       ,  0.6392157 ,  0.78039217],\n",
              "         ...,\n",
              "         [-0.25490195, -0.05098039, -0.5372549 ],\n",
              "         [-0.20784312, -0.05882353, -0.56078434],\n",
              "         [-0.2862745 , -0.19999999, -0.7490196 ]],\n",
              "\n",
              "        [[ 0.37254906,  0.33333337,  0.5137255 ],\n",
              "         [ 0.38823533,  0.39607847,  0.5764706 ],\n",
              "         [ 0.6       ,  0.62352943,  0.827451  ],\n",
              "         ...,\n",
              "         [-0.12156862,  0.082353  , -0.4980392 ],\n",
              "         [-0.15294117,  0.12941182, -0.54509807],\n",
              "         [-0.26274508, -0.09803921, -0.8039216 ]],\n",
              "\n",
              "        ...,\n",
              "\n",
              "        [[-0.36470586, -0.4980392 , -0.52156866],\n",
              "         [ 0.5529412 ,  0.5137255 ,  0.5372549 ],\n",
              "         [ 0.48235297,  0.38823533,  0.427451  ],\n",
              "         ...,\n",
              "         [-0.6313726 , -0.5921569 , -0.8117647 ],\n",
              "         [-0.60784316, -0.5058824 , -0.7176471 ],\n",
              "         [-0.4823529 , -0.47450978, -0.62352943]],\n",
              "\n",
              "        [[ 0.427451  ,  0.34901965,  0.3411765 ],\n",
              "         [ 0.5921569 ,  0.5372549 ,  0.56078434],\n",
              "         [ 0.03529418, -0.0745098 , -0.0745098 ],\n",
              "         ...,\n",
              "         [-0.62352943, -0.5529412 , -0.79607844],\n",
              "         [-0.60784316, -0.49019605, -0.6862745 ],\n",
              "         [-0.5372549 , -0.47450978, -0.64705884]],\n",
              "\n",
              "        [[ 0.6313726 ,  0.54509807,  0.52156866],\n",
              "         [ 0.16078436,  0.04313731,  0.02745104],\n",
              "         [-0.03529412, -0.21568626, -0.16862744],\n",
              "         ...,\n",
              "         [-0.56078434, -0.49019605, -0.7490196 ],\n",
              "         [-0.5137255 , -0.41176468, -0.7019608 ],\n",
              "         [-0.62352943, -0.4980392 , -0.7490196 ]]],\n",
              "\n",
              "\n",
              "       ...,\n",
              "\n",
              "\n",
              "       [[[ 0.13725495, -0.02745098, -0.23921567],\n",
              "         [ 0.24705887,  0.082353  , -0.12941176],\n",
              "         [ 0.30980396,  0.14509809, -0.06666666],\n",
              "         ...,\n",
              "         [ 0.14509809,  0.15294123,  0.11372554],\n",
              "         [ 0.2313726 ,  0.22352946,  0.15294123],\n",
              "         [ 0.23921573,  0.20784318,  0.11372554]],\n",
              "\n",
              "        [[ 0.21568632,  0.05882359, -0.15294117],\n",
              "         [ 0.23921573,  0.082353  , -0.12941176],\n",
              "         [ 0.30196083,  0.14509809, -0.06666666],\n",
              "         ...,\n",
              "         [ 0.2941177 ,  0.30196083,  0.254902  ],\n",
              "         [ 0.30980396,  0.30196083,  0.2313726 ],\n",
              "         [ 0.2313726 ,  0.20000005,  0.09803927]],\n",
              "\n",
              "        [[ 0.22352946,  0.09803927, -0.10588235],\n",
              "         [ 0.30980396,  0.17647064, -0.01960784],\n",
              "         [ 0.34901965,  0.21568632,  0.0196079 ],\n",
              "         ...,\n",
              "         [ 0.19215691,  0.20000005,  0.14509809],\n",
              "         [ 0.28627455,  0.27058828,  0.20000005],\n",
              "         [ 0.2313726 ,  0.20000005,  0.10588241]],\n",
              "\n",
              "        ...,\n",
              "\n",
              "        [[-0.31764704, -0.05882353, -0.4588235 ],\n",
              "         [-0.21568626,  0.01176476, -0.36470586],\n",
              "         [-0.23921567, -0.03529412, -0.40392154],\n",
              "         ...,\n",
              "         [-0.54509807, -0.5294118 , -0.6392157 ],\n",
              "         [-0.5372549 , -0.52156866, -0.60784316],\n",
              "         [-0.47450978, -0.46666664, -0.52156866]],\n",
              "\n",
              "        [[-0.27058822, -0.05098039, -0.41176468],\n",
              "         [-0.21568626, -0.01176471, -0.372549  ],\n",
              "         [-0.25490195, -0.09019607, -0.44313723],\n",
              "         ...,\n",
              "         [-0.49019605, -0.47450978, -0.5921569 ],\n",
              "         [-0.5058824 , -0.4980392 , -0.5921569 ],\n",
              "         [-0.49019605, -0.4823529 , -0.54509807]],\n",
              "\n",
              "        [[-0.19999999, -0.09803921, -0.36470586],\n",
              "         [-0.42745095, -0.31764704, -0.60784316],\n",
              "         [-0.3098039 , -0.20784312, -0.5372549 ],\n",
              "         ...,\n",
              "         [-0.3960784 , -0.3960784 , -0.49019605],\n",
              "         [-0.5058824 , -0.5058824 , -0.5921569 ],\n",
              "         [-0.5137255 , -0.5137255 , -0.5921569 ]]],\n",
              "\n",
              "\n",
              "       [[[-0.46666664, -0.21568626, -0.6784314 ],\n",
              "         [-0.38823527, -0.16862744, -0.6313726 ],\n",
              "         [-0.04313725, -0.16862744, -0.40392154],\n",
              "         ...,\n",
              "         [-0.21568626, -0.30196077, -0.3960784 ],\n",
              "         [-0.35686272, -0.23921567, -0.36470586],\n",
              "         [-0.1372549 , -0.06666666, -0.14509803]],\n",
              "\n",
              "        [[-0.26274508,  0.00392163, -0.5137255 ],\n",
              "         [-0.4588235 , -0.17647058, -0.6862745 ],\n",
              "         [-0.09803921, -0.12156862, -0.31764704],\n",
              "         ...,\n",
              "         [-0.3333333 , -0.4823529 , -0.4823529 ],\n",
              "         [-0.00392157, -0.1607843 , -0.2235294 ],\n",
              "         [-0.20784312, -0.23137254, -0.24705881]],\n",
              "\n",
              "        [[ 0.082353  ,  0.24705887, -0.17647058],\n",
              "         [-0.06666666,  0.0196079 , -0.372549  ],\n",
              "         [-0.20784312, -0.14509803, -0.30196077],\n",
              "         ...,\n",
              "         [-0.4588235 , -0.6313726 , -0.6862745 ],\n",
              "         [ 0.14509809, -0.18431371, -0.36470586],\n",
              "         [-0.10588235, -0.26274508, -0.3490196 ]],\n",
              "\n",
              "        ...,\n",
              "\n",
              "        [[-0.02745098, -0.00392157,  0.20784318],\n",
              "         [ 0.427451  ,  0.45098042,  0.8039216 ],\n",
              "         [ 0.35686278,  0.47450984,  0.79607844],\n",
              "         ...,\n",
              "         [-0.05098039,  0.19215691, -0.03529412],\n",
              "         [-0.27058822, -0.14509803, -0.3490196 ],\n",
              "         [-0.05098039,  0.11372554, -0.03529412]],\n",
              "\n",
              "        [[-0.10588235, -0.05098039,  0.22352946],\n",
              "         [-0.03529412,  0.0196079 ,  0.18431377],\n",
              "         [ 0.39607847,  0.45882356,  0.7882353 ],\n",
              "         ...,\n",
              "         [-0.42745095, -0.14509803, -0.372549  ],\n",
              "         [-0.14509803,  0.04313731, -0.18431371],\n",
              "         [-0.1607843 ,  0.03529418, -0.12156862]],\n",
              "\n",
              "        [[ 0.36470592,  0.45882356,  0.7882353 ],\n",
              "         [-0.10588235, -0.03529412,  0.15294123],\n",
              "         [ 0.02745104,  0.06666672,  0.27843142],\n",
              "         ...,\n",
              "         [-0.20784312,  0.10588241, -0.10588235],\n",
              "         [-0.372549  , -0.09803921, -0.3490196 ],\n",
              "         [ 0.02745104,  0.254902  ,  0.09803927]]],\n",
              "\n",
              "\n",
              "       [[[-0.47450978, -0.47450978, -0.47450978],\n",
              "         [-0.41960782, -0.41960782, -0.41960782],\n",
              "         [-0.5058824 , -0.5058824 , -0.5058824 ],\n",
              "         ...,\n",
              "         [-0.4823529 , -0.4823529 , -0.4823529 ],\n",
              "         [-0.4980392 , -0.4980392 , -0.4980392 ],\n",
              "         [-0.5137255 , -0.5137255 , -0.5137255 ]],\n",
              "\n",
              "        [[-0.47450978, -0.47450978, -0.47450978],\n",
              "         [-0.42745095, -0.42745095, -0.42745095],\n",
              "         [-0.54509807, -0.54509807, -0.54509807],\n",
              "         ...,\n",
              "         [-0.49019605, -0.49019605, -0.49019605],\n",
              "         [-0.4980392 , -0.4980392 , -0.4980392 ],\n",
              "         [-0.5137255 , -0.5137255 , -0.5137255 ]],\n",
              "\n",
              "        [[-0.56078434, -0.56078434, -0.56078434],\n",
              "         [-0.52156866, -0.52156866, -0.52156866],\n",
              "         [-0.5058824 , -0.5058824 , -0.5058824 ],\n",
              "         ...,\n",
              "         [-0.4980392 , -0.4980392 , -0.4980392 ],\n",
              "         [-0.5058824 , -0.5058824 , -0.5058824 ],\n",
              "         [-0.5137255 , -0.5137255 , -0.5137255 ]],\n",
              "\n",
              "        ...,\n",
              "\n",
              "        [[ 0.03529418,  0.03529418,  0.03529418],\n",
              "         [ 0.03529418,  0.03529418,  0.03529418],\n",
              "         [ 0.09019613,  0.09019613,  0.09019613],\n",
              "         ...,\n",
              "         [-0.0745098 , -0.0745098 , -0.0745098 ],\n",
              "         [ 0.02745104,  0.02745104,  0.02745104],\n",
              "         [ 0.09803927,  0.09803927,  0.09803927]],\n",
              "\n",
              "        [[ 0.02745104,  0.02745104,  0.02745104],\n",
              "         [ 0.05882359,  0.05882359,  0.05882359],\n",
              "         [ 0.04313731,  0.04313731,  0.04313731],\n",
              "         ...,\n",
              "         [ 0.03529418,  0.03529418,  0.03529418],\n",
              "         [-0.01176471, -0.01176471, -0.01176471],\n",
              "         [ 0.02745104,  0.02745104,  0.02745104]],\n",
              "\n",
              "        [[ 0.04313731,  0.04313731,  0.04313731],\n",
              "         [-0.01960784, -0.01960784, -0.01960784],\n",
              "         [-0.03529412, -0.03529412, -0.03529412],\n",
              "         ...,\n",
              "         [ 0.05098045,  0.05098045,  0.05098045],\n",
              "         [-0.05882353, -0.05882353, -0.05882353],\n",
              "         [-0.05098039, -0.05098039, -0.05098039]]]], dtype=float32)"
            ]
          },
          "metadata": {
            "tags": []
          },
          "execution_count": 48
        }
      ]
    },
    {
      "cell_type": "code",
      "metadata": {
        "id": "L3ejw7fhjkkE"
      },
      "source": [
        "import tensorflow as tf\n",
        "\n",
        "from tensorflow.keras import Model\n",
        "from tensorflow.keras.applications.mobilenet import MobileNet,preprocess_input\n",
        "from tensorflow.keras.callbacks import ModelCheckpoint,EarlyStopping,ReduceLROnPlateau,Callback\n",
        "from tensorflow.keras.layers import Conv2D,Reshape\n",
        "from tensorflow.keras.utils import Sequence\n",
        "from tensorflow.keras.backend import epsilon"
      ],
      "execution_count": 50,
      "outputs": []
    },
    {
      "cell_type": "markdown",
      "metadata": {
        "id": "C9KU6pUTWGi9"
      },
      "source": [
        "### Import MobileNet and load MobileNet into a variable named 'model' which takes input shape of 128 * 128 * 3. Freeze all the layers. Add convolution and reshape layers at the end to ensure the output is 4 coordinates"
      ]
    },
    {
      "cell_type": "code",
      "metadata": {
        "id": "nosEtf1lWGi-",
        "colab": {
          "base_uri": "https://localhost:8080/"
        },
        "outputId": "4ff8432b-1324-4512-9aab-4418be39b38d"
      },
      "source": [
        "ALPHA=0.5\n",
        "\n",
        "model=MobileNet(input_shape=(IMAGE_SIZE,IMAGE_SIZE,3),include_top=False,alpha=ALPHA)\n",
        "for layer in model.layers:\n",
        "  layer.trainable=False\n",
        "\n",
        "x=model.layers[-1].output\n",
        "x=Conv2D(4,kernel_size=4,name=\"coords\")(x)\n",
        "x=Reshape((4,))(x)\n",
        "\n",
        "model=Model(inputs=model.input,outputs=x)\n"
      ],
      "execution_count": 51,
      "outputs": [
        {
          "output_type": "stream",
          "text": [
            "Downloading data from https://storage.googleapis.com/tensorflow/keras-applications/mobilenet/mobilenet_5_0_128_tf_no_top.h5\n",
            "5578752/5577668 [==============================] - 0s 0us/step\n"
          ],
          "name": "stdout"
        }
      ]
    },
    {
      "cell_type": "markdown",
      "metadata": {
        "id": "nsQSHWgpWGjC"
      },
      "source": [
        "### Define a custom loss function IoU which calculates Intersection Over Union"
      ]
    },
    {
      "cell_type": "code",
      "metadata": {
        "id": "7Ig_Gsn-WGjD"
      },
      "source": [
        "def loss(gt,pred):\n",
        "    intersections = 0\n",
        "    unions = 0\n",
        "    diff_width = np.minimum(gt[:,0] + gt[:,2], pred[:,0] + pred[:,2]) - np.maximum(gt[:,0], pred[:,0])\n",
        "    diff_height = np.minimum(gt[:,1] + gt[:,3], pred[:,1] + pred[:,3]) - np.maximum(gt[:,1], pred[:,1])\n",
        "    intersection = diff_width * diff_height\n",
        "    \n",
        "    # Compute union\n",
        "    area_gt = gt[:,2] * gt[:,3]\n",
        "    area_pred = pred[:,2] * pred[:,3]\n",
        "    union = area_gt + area_pred - intersection\n",
        "\n",
        "#     Compute intersection and union over multiple boxes\n",
        "    for j, _ in enumerate(union):\n",
        "        if union[j] > 0 and intersection[j] > 0 and union[j] >= intersection[j]:\n",
        "            intersections += intersection[j]\n",
        "            unions += union[j]\n",
        "\n",
        "    # Compute IOU. Use epsilon to prevent division by zero\n",
        "    iou = np.round(intersections / (unions + epsilon()), 4)\n",
        "    iou = iou.astype(np.float32)\n",
        "    return iou\n",
        "\n",
        "def IoU(y_true, y_pred):\n",
        "    iou = tf.compat.v1.py_func(loss, [y_true, y_pred], tf.float32)\n",
        "    return iou"
      ],
      "execution_count": 53,
      "outputs": []
    },
    {
      "cell_type": "markdown",
      "metadata": {
        "id": "2Zs7VcSVWGjF"
      },
      "source": [
        "### Write model.compile function & model.fit function with: <br>\n",
        "1. Optimizer = Adam, Loss = 'mse' and metrics = IoU\n",
        "2. Epochs = 30, batch_size = 32, verbose = 1"
      ]
    },
    {
      "cell_type": "code",
      "metadata": {
        "id": "f35dLEJlWGjG",
        "colab": {
          "base_uri": "https://localhost:8080/"
        },
        "outputId": "1d129d1b-7f00-4b5a-fc02-43152e231a6a"
      },
      "source": [
        "model.compile(optimizer='adam',loss='mse',metrics=IoU)\n",
        "model.fit(batch_images,coords,batch_size=32,epochs=30,verbose=1) "
      ],
      "execution_count": 54,
      "outputs": [
        {
          "output_type": "stream",
          "text": [
            "Epoch 1/30\n",
            "WARNING:tensorflow:From <ipython-input-53-7ee04dc8b169>:25: py_func (from tensorflow.python.ops.script_ops) is deprecated and will be removed in a future version.\n",
            "Instructions for updating:\n",
            "tf.py_func is deprecated in TF V2. Instead, there are two\n",
            "    options available in V2.\n",
            "    - tf.py_function takes a python function which manipulates tf eager\n",
            "    tensors instead of numpy arrays. It's easy to convert a tf eager tensor to\n",
            "    an ndarray (just call tensor.numpy()) but having access to eager tensors\n",
            "    means `tf.py_function`s can use accelerators such as GPUs as well as\n",
            "    being differentiable using a gradient tape.\n",
            "    - tf.numpy_function maintains the semantics of the deprecated tf.py_func\n",
            "    (it is not differentiable, and manipulates numpy arrays). It drops the\n",
            "    stateful argument making all functions stateful.\n",
            "    \n",
            "6/6 [==============================] - 1s 127ms/step - loss: 4740.8311 - IoU: 0.0460\n",
            "Epoch 2/30\n",
            "6/6 [==============================] - 1s 127ms/step - loss: 1932.0587 - IoU: 0.2087\n",
            "Epoch 3/30\n",
            "6/6 [==============================] - 1s 127ms/step - loss: 607.7672 - IoU: 0.4524\n",
            "Epoch 4/30\n",
            "6/6 [==============================] - 1s 126ms/step - loss: 313.0758 - IoU: 0.5861\n",
            "Epoch 5/30\n",
            "6/6 [==============================] - 1s 127ms/step - loss: 367.3631 - IoU: 0.5813\n",
            "Epoch 6/30\n",
            "6/6 [==============================] - 1s 128ms/step - loss: 368.4211 - IoU: 0.5818\n",
            "Epoch 7/30\n",
            "6/6 [==============================] - 1s 130ms/step - loss: 280.5921 - IoU: 0.6268\n",
            "Epoch 8/30\n",
            "6/6 [==============================] - 1s 128ms/step - loss: 206.7899 - IoU: 0.6550\n",
            "Epoch 9/30\n",
            "6/6 [==============================] - 1s 128ms/step - loss: 181.6952 - IoU: 0.6750\n",
            "Epoch 10/30\n",
            "6/6 [==============================] - 1s 128ms/step - loss: 174.1244 - IoU: 0.6745\n",
            "Epoch 11/30\n",
            "6/6 [==============================] - 1s 127ms/step - loss: 161.2032 - IoU: 0.6910\n",
            "Epoch 12/30\n",
            "6/6 [==============================] - 1s 128ms/step - loss: 148.2938 - IoU: 0.7097\n",
            "Epoch 13/30\n",
            "6/6 [==============================] - 1s 129ms/step - loss: 137.9418 - IoU: 0.7254\n",
            "Epoch 14/30\n",
            "6/6 [==============================] - 1s 128ms/step - loss: 129.8962 - IoU: 0.7416\n",
            "Epoch 15/30\n",
            "6/6 [==============================] - 1s 127ms/step - loss: 121.7840 - IoU: 0.7423\n",
            "Epoch 16/30\n",
            "6/6 [==============================] - 1s 126ms/step - loss: 115.0058 - IoU: 0.7425\n",
            "Epoch 17/30\n",
            "6/6 [==============================] - 1s 126ms/step - loss: 109.5948 - IoU: 0.7538\n",
            "Epoch 18/30\n",
            "6/6 [==============================] - 1s 128ms/step - loss: 104.9282 - IoU: 0.7567\n",
            "Epoch 19/30\n",
            "6/6 [==============================] - 1s 128ms/step - loss: 99.5816 - IoU: 0.7793\n",
            "Epoch 20/30\n",
            "6/6 [==============================] - 1s 134ms/step - loss: 95.4008 - IoU: 0.7669\n",
            "Epoch 21/30\n",
            "6/6 [==============================] - 1s 130ms/step - loss: 92.0722 - IoU: 0.7785\n",
            "Epoch 22/30\n",
            "6/6 [==============================] - 1s 129ms/step - loss: 88.2940 - IoU: 0.7857\n",
            "Epoch 23/30\n",
            "6/6 [==============================] - 1s 130ms/step - loss: 85.1062 - IoU: 0.7837\n",
            "Epoch 24/30\n",
            "6/6 [==============================] - 1s 131ms/step - loss: 82.1071 - IoU: 0.7959\n",
            "Epoch 25/30\n",
            "6/6 [==============================] - 1s 127ms/step - loss: 80.1165 - IoU: 0.7998\n",
            "Epoch 26/30\n",
            "6/6 [==============================] - 1s 127ms/step - loss: 76.8721 - IoU: 0.8023\n",
            "Epoch 27/30\n",
            "6/6 [==============================] - 1s 128ms/step - loss: 74.6109 - IoU: 0.8082\n",
            "Epoch 28/30\n",
            "6/6 [==============================] - 1s 128ms/step - loss: 73.0435 - IoU: 0.8182\n",
            "Epoch 29/30\n",
            "6/6 [==============================] - 1s 128ms/step - loss: 71.1154 - IoU: 0.8193\n",
            "Epoch 30/30\n",
            "6/6 [==============================] - 1s 126ms/step - loss: 69.3890 - IoU: 0.8216\n"
          ],
          "name": "stdout"
        },
        {
          "output_type": "execute_result",
          "data": {
            "text/plain": [
              "<tensorflow.python.keras.callbacks.History at 0x7fe412f4c1d0>"
            ]
          },
          "metadata": {
            "tags": []
          },
          "execution_count": 54
        }
      ]
    },
    {
      "cell_type": "code",
      "metadata": {
        "id": "09GqQL-iaoi9"
      },
      "source": [
        ""
      ],
      "execution_count": null,
      "outputs": []
    },
    {
      "cell_type": "markdown",
      "metadata": {
        "id": "Ogsiiktvsx-S"
      },
      "source": [
        ""
      ]
    },
    {
      "cell_type": "markdown",
      "metadata": {
        "id": "II1itmqiWGjK"
      },
      "source": [
        "### Pick a test image from the given data"
      ]
    },
    {
      "cell_type": "code",
      "metadata": {
        "id": "okiWQmKoqc3T"
      },
      "source": [
        "test_img=Image.open('images/raccoon-1.jpg')"
      ],
      "execution_count": 130,
      "outputs": []
    },
    {
      "cell_type": "code",
      "metadata": {
        "id": "0ULErYeSWGjK"
      },
      "source": [
        ""
      ],
      "execution_count": null,
      "outputs": []
    },
    {
      "cell_type": "markdown",
      "metadata": {
        "id": "h99SC9MjWGjO"
      },
      "source": [
        "### Resize the image to 128 * 128 and preprocess the image for the MobileNet model"
      ]
    },
    {
      "cell_type": "code",
      "metadata": {
        "id": "J3jbKm7_WGjP"
      },
      "source": [
        "test_img =  test_img.resize((IMAGE_SIZE,IMAGE_SIZE))"
      ],
      "execution_count": 83,
      "outputs": []
    },
    {
      "cell_type": "code",
      "metadata": {
        "colab": {
          "base_uri": "https://localhost:8080/",
          "height": 145
        },
        "id": "PpUk8a9_S0vg",
        "outputId": "f37da319-5025-4496-91fb-b78d656c2580"
      },
      "source": [
        "test_img"
      ],
      "execution_count": 63,
      "outputs": [
        {
          "output_type": "execute_result",
          "data": {
            "image/png": "[encoded data removed]",
            "text/plain": [
              "<PIL.Image.Image image mode=RGB size=128x128 at 0x7FE41062FC18>"
            ]
          },
          "metadata": {
            "tags": []
          },
          "execution_count": 63
        }
      ]
    },
    {
      "cell_type": "code",
      "metadata": {
        "id": "2vn8UbuhTUN7"
      },
      "source": [
        "test_img=cv2.imread('images/raccoon-1.jpg')\n"
      ],
      "execution_count": 133,
      "outputs": []
    },
    {
      "cell_type": "code",
      "metadata": {
        "id": "59M3dhugYrss"
      },
      "source": [
        "image_height,image_width,_=img_resize.shape"
      ],
      "execution_count": 135,
      "outputs": []
    },
    {
      "cell_type": "code",
      "metadata": {
        "id": "-XMltwBQUC2N"
      },
      "source": [
        "img_resize=cv2.resize(test_img,(IMAGE_SIZE,IMAGE_SIZE),interpolation=cv2.INTER_AREA)\n",
        "img_resize=cv2.cvtColor(img_resize,cv2.COLOR_BGR2RGB)"
      ],
      "execution_count": 134,
      "outputs": []
    },
    {
      "cell_type": "code",
      "metadata": {
        "id": "vHY2-M19Ypu3"
      },
      "source": [
        ""
      ],
      "execution_count": null,
      "outputs": []
    },
    {
      "cell_type": "code",
      "metadata": {
        "id": "ym3bea7lV1fy"
      },
      "source": [
        "test_img=preprocess_input(np.array(test_img,dtype=np.float32))"
      ],
      "execution_count": 121,
      "outputs": []
    },
    {
      "cell_type": "code",
      "metadata": {
        "colab": {
          "base_uri": "https://localhost:8080/"
        },
        "id": "un8ucRDRX8_j",
        "outputId": "38e81022-b11b-4527-fc4a-d412a19536aa"
      },
      "source": [
        "img_resize.shape"
      ],
      "execution_count": 136,
      "outputs": [
        {
          "output_type": "execute_result",
          "data": {
            "text/plain": [
              "(128, 128, 3)"
            ]
          },
          "metadata": {
            "tags": []
          },
          "execution_count": 136
        }
      ]
    },
    {
      "cell_type": "code",
      "metadata": {
        "id": "hBmV5LGGWdBt"
      },
      "source": [
        "test_img=img_resize.reshape(1,128,128,3)"
      ],
      "execution_count": 137,
      "outputs": []
    },
    {
      "cell_type": "code",
      "metadata": {
        "colab": {
          "base_uri": "https://localhost:8080/"
        },
        "id": "X-FUz13HaVjB",
        "outputId": "107dac8b-8d68-499e-f5d5-ccf2237e8a77"
      },
      "source": [
        "test_img.shape"
      ],
      "execution_count": 138,
      "outputs": [
        {
          "output_type": "execute_result",
          "data": {
            "text/plain": [
              "(1, 128, 128, 3)"
            ]
          },
          "metadata": {
            "tags": []
          },
          "execution_count": 138
        }
      ]
    },
    {
      "cell_type": "markdown",
      "metadata": {
        "id": "aGK4IjdaWGjR"
      },
      "source": [
        "### Predict the coordinates of the bounding box for the given test image"
      ]
    },
    {
      "cell_type": "code",
      "metadata": {
        "id": "abnXH5F7WGjS"
      },
      "source": [
        "region=model.predict(test_img)"
      ],
      "execution_count": 139,
      "outputs": []
    },
    {
      "cell_type": "code",
      "metadata": {
        "id": "F6EIf_DtYkgQ"
      },
      "source": [
        ""
      ],
      "execution_count": null,
      "outputs": []
    },
    {
      "cell_type": "code",
      "metadata": {
        "id": "uMKhUBFVYkbp"
      },
      "source": [
        ""
      ],
      "execution_count": null,
      "outputs": []
    },
    {
      "cell_type": "markdown",
      "metadata": {
        "id": "CXbjVdLWWGjW"
      },
      "source": [
        "### Plot the test image using .imshow and draw a boundary box around the image with the coordinates obtained from the model"
      ]
    },
    {
      "cell_type": "code",
      "metadata": {
        "id": "t4Ah05MlWGjY",
        "colab": {
          "base_uri": "https://localhost:8080/",
          "height": 268
        },
        "outputId": "e58ec370-ca89-4673-cd69-5e276e9b78b3"
      },
      "source": [
        "x0 = int(region[0][1] * image_width / IMAGE_SIZE) # Scale the BBox\n",
        "y0 = int(region[0][1] * image_height / IMAGE_SIZE)\n",
        "\n",
        "x1 = int((region[0][2]) * image_width / IMAGE_SIZE)\n",
        "y1 = int((region[0][3]) * image_height / IMAGE_SIZE)\n",
        "\n",
        "\n",
        "import matplotlib.pyplot as plt\n",
        "import matplotlib.patches as patches\n",
        "from PIL import Image\n",
        "import numpy as np\n",
        "\n",
        "\n",
        "# Create figure and axes\n",
        "fig,ax = plt.subplots(1)\n",
        "\n",
        "# Display the image\n",
        "ax.imshow(img_resize)\n",
        "\n",
        "# Create a Rectangle patch\n",
        "rect = patches.Rectangle((x0, y0), (x1 - x0) , (y1 - y0) , linewidth=2, edgecolor='r', facecolor='none')\n",
        "\n",
        "# Add the patch to the Axes\n",
        "ax.add_patch(rect)\n",
        "\n",
        "plt.show()"
      ],
      "execution_count": 141,
      "outputs": [
        {
          "output_type": "display_data",
          "data": {
            "image/png": "[encoded data removed]",
            "text/plain": [
              "<Figure size 432x288 with 1 Axes>"
            ]
          },
          "metadata": {
            "tags": [],
            "needs_background": "light"
          }
        }
      ]
    },
    {
      "cell_type": "code",
      "metadata": {
        "id": "FHbIWp-D7Jyn"
      },
      "source": [
        ""
      ],
      "execution_count": null,
      "outputs": []
    }
  ]
}